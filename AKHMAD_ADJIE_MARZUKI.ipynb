{
  "nbformat": 4,
  "nbformat_minor": 0,
  "metadata": {
    "colab": {
      "provenance": [],
      "authorship_tag": "ABX9TyN0S+uWfljSC04zbBfi2e2Y",
      "include_colab_link": true
    },
    "kernelspec": {
      "name": "python3",
      "display_name": "Python 3"
    },
    "language_info": {
      "name": "python"
    }
  },
  "cells": [
    {
      "cell_type": "markdown",
      "metadata": {
        "id": "view-in-github",
        "colab_type": "text"
      },
      "source": [
        "<a href=\"https://colab.research.google.com/github/marzukiadji/Kriptografi-Tugas-Pertemuan-11/blob/main/AKHMAD_ADJIE_MARZUKI.ipynb\" target=\"_parent\"><img src=\"https://colab.research.google.com/assets/colab-badge.svg\" alt=\"Open In Colab\"/></a>"
      ]
    },
    {
      "cell_type": "code",
      "execution_count": 1,
      "metadata": {
        "colab": {
          "base_uri": "https://localhost:8080/"
        },
        "id": "ForiegkND8Ue",
        "outputId": "30ea8193-c84c-4783-8035-b11ae5ad327c"
      },
      "outputs": [
        {
          "output_type": "stream",
          "name": "stdout",
          "text": [
            "masukkan plainteks: ADJIE\n",
            "masukkan Kunci : CRUSH\n",
            "hasil dari enkripsi adalah: \u0002\u0016\u001f\u001a\n",
            "hasil dari dekripsi adalah: ADJIE\n"
          ]
        }
      ],
      "source": [
        "def konversiascii(input_string):\n",
        "    ascii_values = []\n",
        "    for char in input_string:\n",
        "        ascii_value = ord(char)\n",
        "        ascii_values.append(ascii_value)\n",
        "    return ascii_values\n",
        "\n",
        "def konversibiner(ascii_values):\n",
        "    binary_values = []\n",
        "    for value in ascii_values:\n",
        "        binary_value = bin(value)[2:]\n",
        "        binary_values.append(binary_value)\n",
        "    return binary_values\n",
        "\n",
        "def xor_biner(binary_values_string, binary_values_key):\n",
        "    result_biner = []\n",
        "    for i in range(min(len(binary_values_string), len(binary_values_key))):\n",
        "        result = int(binary_values_string[i], 2) ^ int(binary_values_key[i], 2)\n",
        "        result_biner.append(bin(result)[2:])\n",
        "    return result_biner\n",
        "\n",
        "def biner_ke_desimal(hasil_xor):\n",
        "    desimal_values = []\n",
        "    for value in hasil_xor:\n",
        "        desimal_value = int(value, 2)\n",
        "        desimal_values.append(desimal_value)\n",
        "    return desimal_values\n",
        "\n",
        "def kodeascii(hasil_desimal):\n",
        "    karakter_values = ''\n",
        "    for value in hasil_desimal:\n",
        "        karakter_value = chr(value)\n",
        "        karakter_values += karakter_value\n",
        "    return karakter_values\n",
        "\n",
        "def enkripsi(input_string, key):\n",
        "    ascii_values_string = konversiascii(input_string)\n",
        "    ascii_values_key = konversiascii(key)\n",
        "\n",
        "    hasil_string = konversibiner(ascii_values_string)\n",
        "    hasil_key = konversibiner(ascii_values_key)\n",
        "\n",
        "    hasil_xor = xor_biner(hasil_string, hasil_key)\n",
        "\n",
        "    hasil_desimal = biner_ke_desimal(hasil_xor)\n",
        "\n",
        "    hasil_karakter = kodeascii(hasil_desimal)\n",
        "\n",
        "    return hasil_karakter\n",
        "\n",
        "def dekripsi(input_string, key):\n",
        "    return enkripsi(input_string, key)\n",
        "\n",
        "input_string = input(\"masukkan plainteks: \")\n",
        "key = input(\"masukkan Kunci : \")\n",
        "\n",
        "encrypted_string = enkripsi(input_string, key)\n",
        "print(f\"hasil dari enkripsi adalah: {encrypted_string}\")\n",
        "\n",
        "decrypted_string = dekripsi(encrypted_string, key)\n",
        "print(f\"hasil dari dekripsi adalah: {decrypted_string}\")"
      ]
    }
  ]
}